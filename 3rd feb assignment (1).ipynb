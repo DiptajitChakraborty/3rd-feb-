{
 "cells": [
  {
   "cell_type": "code",
   "execution_count": 7,
   "id": "b8832cb4-b9b3-4974-b71c-819fbde9f011",
   "metadata": {},
   "outputs": [],
   "source": [
    "#Q1\n",
    "#def keyword is used to create a functiom\n",
    "def test(a):\n",
    "    l1 =[]\n",
    "    for i in a:\n",
    "        if i %2 !=0:\n",
    "            l1.append(i)\n",
    "    return l1\n",
    "    "
   ]
  },
  {
   "cell_type": "code",
   "execution_count": 8,
   "id": "3d43f91c-116b-4508-a9df-ec0d36dbf76d",
   "metadata": {},
   "outputs": [
    {
     "data": {
      "text/plain": [
       "[1, 3, 5, 7, 9, 11, 13, 15, 17, 19, 21, 23, 25]"
      ]
     },
     "execution_count": 8,
     "metadata": {},
     "output_type": "execute_result"
    }
   ],
   "source": [
    "test(list(range(1,26)))"
   ]
  },
  {
   "cell_type": "code",
   "execution_count": 16,
   "id": "4a59fdd6-601e-4ae5-8ae4-ff973b5bec56",
   "metadata": {},
   "outputs": [],
   "source": [
    "#Q2\n",
    "#*args is used to define a function of tuple data types and **kwargs used to define a function of dict function.\n",
    "def test1(*args):\n",
    "    return args\n",
    "\n",
    "def test2(**kwargs):\n",
    "    return kwargs\n",
    "    "
   ]
  },
  {
   "cell_type": "code",
   "execution_count": 18,
   "id": "61daf818-8445-4c3b-9b10-996cacc9795f",
   "metadata": {},
   "outputs": [
    {
     "data": {
      "text/plain": [
       "tuple"
      ]
     },
     "execution_count": 18,
     "metadata": {},
     "output_type": "execute_result"
    }
   ],
   "source": [
    "type(test1())"
   ]
  },
  {
   "cell_type": "code",
   "execution_count": 19,
   "id": "cc12d500-dcd3-4175-83d9-10dc2102b5b0",
   "metadata": {},
   "outputs": [
    {
     "data": {
      "text/plain": [
       "dict"
      ]
     },
     "execution_count": 19,
     "metadata": {},
     "output_type": "execute_result"
    }
   ],
   "source": [
    "type(test2())"
   ]
  },
  {
   "cell_type": "code",
   "execution_count": 77,
   "id": "d7c7402b-9d27-4241-b952-d73b84595659",
   "metadata": {},
   "outputs": [
    {
     "name": "stdout",
     "output_type": "stream",
     "text": [
      "2\n",
      "4\n",
      "6\n",
      "8\n",
      "10\n"
     ]
    }
   ],
   "source": [
    "#Q3\n",
    "#Iterator is a data type where generator function can be performed .More precisely iterator is an object that contains a countable number of values.\n",
    "#The method is use iter () \n",
    "l = [2,4,6,8,10,12,14,16,18,20]\n",
    "l1 =iter(l)\n",
    "for i in range(1,6):\n",
    "    print(next(l1))"
   ]
  },
  {
   "cell_type": "code",
   "execution_count": 6,
   "id": "0d4b3d96-db77-489c-acf8-e2ad846dd406",
   "metadata": {},
   "outputs": [],
   "source": [
    "#Q4\n",
    "#Python generator function allows us to declare a function that behaves lik an iterator, providing a faster and eaasier way to create iterators.It is generally used for memory consumption reduction.\n",
    "\n",
    "#yield keyword controls the flow of  a generator function.This is similar to return statement used for returning values in python.\n",
    "#Enter the numbers we want using generator function:-\n",
    "def count_test(n):\n",
    "    count  = 1\n",
    "    while count <n:\n",
    "        yield count\n",
    "        count = count +1\n"
   ]
  },
  {
   "cell_type": "code",
   "execution_count": 8,
   "id": "78757266-6f2a-479c-96e6-83230eeaa768",
   "metadata": {},
   "outputs": [],
   "source": [
    "c = count_test(6)"
   ]
  },
  {
   "cell_type": "code",
   "execution_count": 9,
   "id": "8779ab97-bcc3-489d-97ad-79a4c0eb1d86",
   "metadata": {},
   "outputs": [
    {
     "name": "stdout",
     "output_type": "stream",
     "text": [
      "1\n",
      "2\n",
      "3\n",
      "4\n",
      "5\n"
     ]
    }
   ],
   "source": [
    "for i in c:\n",
    "    print(i)"
   ]
  },
  {
   "cell_type": "code",
   "execution_count": 105,
   "id": "6aa053fb-7768-42c9-946c-64199a668c72",
   "metadata": {},
   "outputs": [],
   "source": [
    "#Q5\n",
    "def prime_no():\n",
    "    \n",
    "    for num in range(2,1001):\n",
    "        \n",
    "        for i in range(2, num):\n",
    "            \n",
    "            if (num %i) == 0:\n",
    "                \n",
    "                break\n",
    "        else:\n",
    "            yield num\n",
    "            "
   ]
  },
  {
   "cell_type": "code",
   "execution_count": 106,
   "id": "908ffb7e-34f7-43c0-9154-8127ca3c8c32",
   "metadata": {},
   "outputs": [],
   "source": [
    "t = prime_no()"
   ]
  },
  {
   "cell_type": "code",
   "execution_count": 107,
   "id": "5161ed80-d147-4d54-be7c-65228db32d50",
   "metadata": {},
   "outputs": [
    {
     "data": {
      "text/plain": [
       "<generator object prime_no at 0x7f3cf9c7f3e0>"
      ]
     },
     "execution_count": 107,
     "metadata": {},
     "output_type": "execute_result"
    }
   ],
   "source": [
    "t"
   ]
  },
  {
   "cell_type": "code",
   "execution_count": 81,
   "id": "1bbe4c6c-c3ed-4044-a2f8-50d8bcfb3e58",
   "metadata": {},
   "outputs": [
    {
     "name": "stdout",
     "output_type": "stream",
     "text": [
      "2\n",
      "3\n",
      "5\n",
      "7\n",
      "11\n",
      "13\n",
      "17\n",
      "19\n",
      "23\n",
      "29\n",
      "31\n",
      "37\n",
      "41\n",
      "43\n",
      "47\n",
      "53\n",
      "59\n",
      "61\n",
      "67\n",
      "71\n"
     ]
    }
   ],
   "source": [
    "for i in range(1,21):\n",
    "    print(next(s))"
   ]
  },
  {
   "cell_type": "code",
   "execution_count": 104,
   "id": "d55fa018-b04e-4690-97b7-a7af896c8155",
   "metadata": {},
   "outputs": [
    {
     "name": "stdout",
     "output_type": "stream",
     "text": [
      "0\n",
      "1\n",
      "1\n",
      "2\n",
      "3\n",
      "5\n",
      "8\n",
      "13\n",
      "21\n",
      "34\n",
      "55\n"
     ]
    }
   ],
   "source": [
    "#Q6\n",
    "a , b = 0,1 \n",
    "for i in range(0,11): \n",
    "    print(a)\n",
    "    c =a +b\n",
    "    a =b\n",
    "    b =c"
   ]
  },
  {
   "cell_type": "code",
   "execution_count": 92,
   "id": "7d7546db-0c53-4463-8eb5-45fe9f6a5f71",
   "metadata": {},
   "outputs": [],
   "source": [
    "#Q7\n",
    "l = 'pwskills'"
   ]
  },
  {
   "cell_type": "code",
   "execution_count": 93,
   "id": "b07f3cf8-e448-4bcc-9485-5461991f72d2",
   "metadata": {},
   "outputs": [
    {
     "data": {
      "text/plain": [
       "['p', 'w', 's', 'k', 'i', 'l', 'l', 's']"
      ]
     },
     "execution_count": 93,
     "metadata": {},
     "output_type": "execute_result"
    }
   ],
   "source": [
    "[i for i in l  ]"
   ]
  },
  {
   "cell_type": "code",
   "execution_count": 94,
   "id": "1f937bf4-3ba3-40d6-be78-1c1bbd96a19c",
   "metadata": {},
   "outputs": [
    {
     "name": "stdin",
     "output_type": "stream",
     "text": [
      "Enter the number  14561\n"
     ]
    },
    {
     "name": "stdout",
     "output_type": "stream",
     "text": [
      "This is not pallindrome\n"
     ]
    }
   ],
   "source": [
    "#Q8\n",
    "n = int(input(\"Enter the number \"))\n",
    "m = n\n",
    "r = 0\n",
    "while n >0:\n",
    "    d = n%10\n",
    "    r= r*10+d\n",
    "    n = int(n/10)\n",
    "if m == n:\n",
    "    print(\"This is pallindrome\")\n",
    "else:\n",
    "    print(\"This is not pallindrome\")"
   ]
  },
  {
   "cell_type": "code",
   "execution_count": 102,
   "id": "3c92280b-fb27-4ec4-b508-fb5074df646e",
   "metadata": {},
   "outputs": [],
   "source": [
    "#Q9\n",
    "l1 = list(range(1,101))"
   ]
  },
  {
   "cell_type": "code",
   "execution_count": 103,
   "id": "b5e72bc3-2a70-44c1-bd3c-3f1867122dab",
   "metadata": {},
   "outputs": [
    {
     "data": {
      "text/plain": [
       "[1,\n",
       " 3,\n",
       " 5,\n",
       " 7,\n",
       " 9,\n",
       " 11,\n",
       " 13,\n",
       " 15,\n",
       " 17,\n",
       " 19,\n",
       " 21,\n",
       " 23,\n",
       " 25,\n",
       " 27,\n",
       " 29,\n",
       " 31,\n",
       " 33,\n",
       " 35,\n",
       " 37,\n",
       " 39,\n",
       " 41,\n",
       " 43,\n",
       " 45,\n",
       " 47,\n",
       " 49,\n",
       " 51,\n",
       " 53,\n",
       " 55,\n",
       " 57,\n",
       " 59,\n",
       " 61,\n",
       " 63,\n",
       " 65,\n",
       " 67,\n",
       " 69,\n",
       " 71,\n",
       " 73,\n",
       " 75,\n",
       " 77,\n",
       " 79,\n",
       " 81,\n",
       " 83,\n",
       " 85,\n",
       " 87,\n",
       " 89,\n",
       " 91,\n",
       " 93,\n",
       " 95,\n",
       " 97,\n",
       " 99]"
      ]
     },
     "execution_count": 103,
     "metadata": {},
     "output_type": "execute_result"
    }
   ],
   "source": [
    "[i for i in l1 if i %2  !=0]"
   ]
  },
  {
   "cell_type": "code",
   "execution_count": null,
   "id": "4ee9c199-0374-4d8f-a0c7-6fa2bc03fc04",
   "metadata": {},
   "outputs": [],
   "source": []
  }
 ],
 "metadata": {
  "kernelspec": {
   "display_name": "Python 3 (ipykernel)",
   "language": "python",
   "name": "python3"
  },
  "language_info": {
   "codemirror_mode": {
    "name": "ipython",
    "version": 3
   },
   "file_extension": ".py",
   "mimetype": "text/x-python",
   "name": "python",
   "nbconvert_exporter": "python",
   "pygments_lexer": "ipython3",
   "version": "3.10.8"
  }
 },
 "nbformat": 4,
 "nbformat_minor": 5
}
